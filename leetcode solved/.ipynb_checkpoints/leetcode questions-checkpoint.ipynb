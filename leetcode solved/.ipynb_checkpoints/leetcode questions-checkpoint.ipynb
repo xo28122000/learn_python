{
 "cells": [
  {
   "cell_type": "markdown",
   "metadata": {},
   "source": [
    "<h2>1. Two Sum</h2>\n",
    "Easy\n",
    "\n",
    "Given an array of integers, return indices of the two numbers such that they add up to a specific target.\n",
    "\n",
    "You may assume that each input would have exactly one solution, and you may not use the same element twice.\n",
    "\n",
    "Example:\n",
    "\n",
    "Given nums = [2, 7, 11, 15], target = 9,\n",
    "\n",
    "Because nums[0] + nums[1] = 2 + 7 = 9,\n",
    "return [0, 1]."
   ]
  },
  {
   "cell_type": "code",
   "execution_count": 3,
   "metadata": {},
   "outputs": [
    {
     "data": {
      "text/plain": [
       "[0, 1]"
      ]
     },
     "execution_count": 3,
     "metadata": {},
     "output_type": "execute_result"
    }
   ],
   "source": [
    "def twoSum(nums, target):\n",
    "        a = -1\n",
    "        b = -1\n",
    "        indexi = 0\n",
    "        indexj = 0\n",
    "        flag = 0\n",
    "\n",
    "        for i in nums:\n",
    "            # print(\"here1\")\n",
    "            if(a != -1 and b != -1):\n",
    "                break\n",
    "            for j in nums:\n",
    "                # print(\"here2\")\n",
    "\n",
    "                if(i+j == target):\n",
    "                    # print(\"here3\")\n",
    "                    # print(indexi)\n",
    "                    # print(indexj)\n",
    "                    if(indexi != indexj):\n",
    "                        # print(\"here4\")\n",
    "                        a = indexi\n",
    "                        b = indexj\n",
    "                        break\n",
    "                indexj += 1\n",
    "            indexi += 1\n",
    "            indexj = 0\n",
    "        return [a, b]\n",
    "\n",
    "twoSum([2, 7, 11, 15],9)"
   ]
  },
  {
   "cell_type": "markdown",
   "metadata": {},
   "source": [
    "<h2>7. Reverse Integer</h2\n",
    "                         >\n",
    "Given a 32-bit signed integer, reverse digits of an integer.\n",
    "\n",
    "Example 1:\n",
    "\n",
    "Input: 123\n",
    "Output: 321\n",
    "\n",
    "Example 2:\n",
    "\n",
    "Input: -123\n",
    "Output: -321\n",
    "\n",
    "Example 3:\n",
    "\n",
    "Input: 120\n",
    "Output: 21\n",
    "\n",
    "Note:\n",
    "Assume we are dealing with an environment which could only store integers within the 32-bit signed integer range: [−231,  231 − 1]. For the purpose of this problem, assume that your function returns 0 when the reversed integer overflows."
   ]
  },
  {
   "cell_type": "code",
   "execution_count": 56,
   "metadata": {},
   "outputs": [
    {
     "data": {
      "text/plain": [
       "-44301211"
      ]
     },
     "execution_count": 56,
     "metadata": {},
     "output_type": "execute_result"
    }
   ],
   "source": [
    "num = -11210344\n",
    "\n",
    "def reverse(x):\n",
    "    isnegative = False\n",
    "    if(x<0):\n",
    "        isnegative = True\n",
    "        x = abs(x)\n",
    "    listnum = [int(y) for y in str(x)]\n",
    "    reversednumber=0\n",
    "    i=0\n",
    "    for y in listnum:\n",
    "        reversednumber += y*(10**i)\n",
    "        i+=1\n",
    "\n",
    "    if(isnegative):\n",
    "        reversednumber *= -1\n",
    "                \n",
    "            \n",
    "    if(reversednumber < -2147483648 or reversednumber > 2147483647):\n",
    "        return(0)\n",
    "    else:\n",
    "        return(reversednumber)\n",
    "        \n",
    "        \n",
    "reverse(num)"
   ]
  },
  {
   "cell_type": "markdown",
   "metadata": {},
   "source": [
    "<h2>9. Palindrome Number</h2>\n",
    "Determine whether an integer is a palindrome. An integer is a palindrome when it reads the same backward as forward.\n",
    "\n",
    "Example 1:\n",
    "\n",
    "Input: 121\n",
    "Output: true\n",
    "Example 2:\n",
    "\n",
    "Input: -121\n",
    "Output: false\n",
    "Explanation: From left to right, it reads -121. From right to left, it becomes 121-. Therefore it is not a palindrome.\n",
    "Example 3:\n",
    "\n",
    "Input: 10\n",
    "Output: false\n",
    "Explanation: Reads 01 from right to left. Therefore it is not a palindrome.\n",
    "Follow up:\n",
    "\n",
    "Coud you solve it without converting the integer to a string?"
   ]
  },
  {
   "cell_type": "code",
   "execution_count": 81,
   "metadata": {},
   "outputs": [
    {
     "data": {
      "text/plain": [
       "True"
      ]
     },
     "execution_count": 81,
     "metadata": {},
     "output_type": "execute_result"
    }
   ],
   "source": [
    "def isPalindrome(x):\n",
    "    string = str(x)\n",
    "    if(string == \"\".join(reversed(string)) ):\n",
    "        return True\n",
    "    else:\n",
    "        return False\n",
    "    \n",
    "def altisPalindrome(x):\n",
    "    listnum = [int(y) for y in str(x)]\n",
    "\n",
    "    if(listnum == listnum[::-1]):\n",
    "        return True\n",
    "    else:\n",
    "        return False\n",
    "altisPalindrome(124421)"
   ]
  },
  {
   "cell_type": "markdown",
   "metadata": {},
   "source": [
    "<h2>13. Roman to Integer</h2>\n",
    "Roman numerals are represented by seven different symbols: I, V, X, L, C, D and M.\n",
    "\n",
    "Symbol       Value\n",
    "I             1\n",
    "V             5\n",
    "X             10\n",
    "L             50\n",
    "C             100\n",
    "D             500\n",
    "M             1000\n",
    "For example, two is written as II in Roman numeral, just two one's added together. Twelve is written as, XII, which is simply X + II. The number twenty seven is written as XXVII, which is XX + V + II.\n",
    "\n",
    "Roman numerals are usually written largest to smallest from left to right. However, the numeral for four is not IIII. Instead, the number four is written as IV. Because the one is before the five we subtract it making four. The same principle applies to the number nine, which is written as IX. There are six instances where subtraction is used:\n",
    "\n",
    "I can be placed before V (5) and X (10) to make 4 and 9. \n",
    "X can be placed before L (50) and C (100) to make 40 and 90. \n",
    "C can be placed before D (500) and M (1000) to make 400 and 900.\n",
    "Given a roman numeral, convert it to an integer. Input is guaranteed to be within the range from 1 to 3999.\n",
    "\n",
    "Example 1:\n",
    "\n",
    "Input: \"III\"\n",
    "Output: 3\n",
    "Example 2:\n",
    "\n",
    "Input: \"IV\"\n",
    "Output: 4\n",
    "Example 3:\n",
    "\n",
    "Input: \"IX\"\n",
    "Output: 9\n",
    "Example 4:\n",
    "\n",
    "Input: \"LVIII\"\n",
    "Output: 58\n",
    "Explanation: L = 50, V= 5, III = 3.\n",
    "Example 5:\n",
    "\n",
    "Input: \"MCMXCIV\"\n",
    "Output: 1994\n",
    "Explanation: M = 1000, CM = 900, XC = 90 and IV = 4."
   ]
  },
  {
   "cell_type": "code",
   "execution_count": 101,
   "metadata": {},
   "outputs": [
    {
     "name": "stdout",
     "output_type": "stream",
     "text": [
      "[1000, 100, 1000, 10, 100, 1, 5]\n",
      "1994\n"
     ]
    }
   ],
   "source": [
    "def romanToInt(s):\n",
    "    convlist = []\n",
    "\n",
    "    for x in s:\n",
    "      \n",
    "        switcher = { \n",
    "            \"I\": 1, \n",
    "            \"V\": 5, \n",
    "            \"X\": 10,\n",
    "            \"L\": 50, \n",
    "            \"C\": 100, \n",
    "            \"D\": 500,\n",
    "            \"M\": 1000, \n",
    "           \n",
    "        } \n",
    "        convlist.append(switcher.get(x, \"nothing\") )\n",
    "    \n",
    "    i = 0\n",
    "    convint = 0\n",
    "    for x in convlist:\n",
    "        if(i < len(convlist) - 1 and x < convlist[i+1]):\n",
    "            convint -= x\n",
    "        else:\n",
    "            convint += x\n",
    "        i += 1\n",
    "    return(convint)\n",
    "        \n",
    "    \n",
    "romanToInt('MCMXCIV')"
   ]
  },
  {
   "cell_type": "markdown",
   "metadata": {},
   "source": [
    "<h2>2. Add Two Numbers</h2>\n",
    "You are given two non-empty linked lists representing two non-negative integers. The digits are stored in reverse order and each of their nodes contain a single digit. Add the two numbers and return it as a linked list.\n",
    "\n",
    "You may assume the two numbers do not contain any leading zero, except the number 0 itself.\n",
    "\n",
    "Example:\n",
    "\n",
    "Input: (2 -> 4 -> 3) + (5 -> 6 -> 4)\n",
    "Output: 7 -> 0 -> 8\n",
    "Explanation: 342 + 465 = 807."
   ]
  },
  {
   "cell_type": "code",
   "execution_count": 117,
   "metadata": {},
   "outputs": [
    {
     "name": "stdout",
     "output_type": "stream",
     "text": [
      "8\n"
     ]
    }
   ],
   "source": [
    "# Definition for singly-linked list.\n",
    "class ListNode(object):\n",
    "    def __init__(self, x):\n",
    "        self.val = x\n",
    "        self.next = None\n",
    "\n",
    "def addTwoNumbers(l1, l2):\n",
    "    \"\"\"\n",
    "    :type l1: ListNode\n",
    "    :type l2: ListNode\n",
    "    :rtype: ListNode\n",
    "    \"\"\"\n",
    "    r = (l1.val + l2.val)/10\n",
    "    l1temp = l1\n",
    "    l2temp = l2\n",
    "        \n",
    "    result = ListNode((l1.val + l2.val)%10)\n",
    "        \n",
    "    resulttemp = result\n",
    "    while(True):\n",
    "        if(l1temp.next == None and l2temp.next == None):\n",
    "            if(r==0):\n",
    "                break\n",
    "            else:\n",
    "                resulttemp.next = ListNode(r)\n",
    "                r = 0\n",
    "                break\n",
    "        elif(l1temp.next == None and l2temp.next != None):\n",
    "            l2temp = l2temp.next\n",
    "            resulttemp.next = ListNode(int((l2temp.val + r) % 10))\n",
    "            if(l2temp.val + r > 9):\n",
    "                r = int((l2temp.val + r) / 10 )\n",
    "            else:\n",
    "                r = 0\n",
    "            resulttemp = resulttemp.next\n",
    "           \n",
    "        elif(l1temp.next != None and l2temp.next == None):\n",
    "            l1temp = l1temp.next\n",
    "            resulttemp.next = ListNode(int((l1temp.val + r) % 10))\n",
    "            if(l1temp.val + r > 9):\n",
    "                r = int((l1temp.val + r) / 10 )\n",
    "            else:\n",
    "                r = 0\n",
    "            resulttemp = resulttemp.next\n",
    "            \n",
    "        else:\n",
    "            l1temp = l1temp.next\n",
    "            l2temp = l2temp.next\n",
    "            \n",
    "            resulttemp.next = ListNode(int((l1temp.val + l2temp.val + r) % 10) )\n",
    "            if(l1temp.val + l2temp.val + r > 9):\n",
    "                r = int(int((l1temp.val + l2temp.val + r) / 10))\n",
    "            else:\n",
    "                r = 0\n",
    "            resulttemp = resulttemp.next\n",
    "            \n",
    "            \n",
    "    return (result)\n",
    "\n",
    "\n",
    "# test : \n",
    "\n",
    "l1 = ListNode(2)\n",
    "l1head = l1\n",
    "l1.next = ListNode(4)\n",
    "l1 = l1.next\n",
    "l1.next = ListNode(3)\n",
    "\n",
    "l2 = ListNode(5)\n",
    "l2head = l2\n",
    "l2.next = ListNode(6)\n",
    "l2 = l2.next\n",
    "l2.next = ListNode(4)\n",
    "\n",
    "result = addTwoNumbers(l1head,l2head)\n",
    "print(result.next.next.val)"
   ]
  },
  {
   "cell_type": "code",
   "execution_count": null,
   "metadata": {},
   "outputs": [],
   "source": []
  }
 ],
 "metadata": {
  "kernelspec": {
   "display_name": "Python 3",
   "language": "python",
   "name": "python3"
  },
  "language_info": {
   "codemirror_mode": {
    "name": "ipython",
    "version": 3
   },
   "file_extension": ".py",
   "mimetype": "text/x-python",
   "name": "python",
   "nbconvert_exporter": "python",
   "pygments_lexer": "ipython3",
   "version": "3.7.1"
  }
 },
 "nbformat": 4,
 "nbformat_minor": 2
}
