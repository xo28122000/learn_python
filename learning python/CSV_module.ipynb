{
 "cells": [
  {
   "cell_type": "code",
   "execution_count": 1,
   "metadata": {},
   "outputs": [],
   "source": [
    "path = \"example.csv\"\n",
    "file = open(path)\n",
    "# for line in file:\n",
    "#     print(line)"
   ]
  },
  {
   "cell_type": "code",
   "execution_count": 2,
   "metadata": {},
   "outputs": [
    {
     "name": "stdout",
     "output_type": "stream",
     "text": [
      "['Dialect', 'DictReader', 'DictWriter', 'Error', 'OrderedDict', 'QUOTE_ALL', 'QUOTE_MINIMAL', 'QUOTE_NONE', 'QUOTE_NONNUMERIC', 'Sniffer', 'StringIO', '_Dialect', '__all__', '__builtins__', '__cached__', '__doc__', '__file__', '__loader__', '__name__', '__package__', '__spec__', '__version__', 'excel', 'excel_tab', 'field_size_limit', 'get_dialect', 'list_dialects', 're', 'reader', 'register_dialect', 'unix_dialect', 'unregister_dialect', 'writer']\n"
     ]
    }
   ],
   "source": [
    "import csv\n",
    "from datetime import datetime\n",
    "\n",
    "print(dir(csv))"
   ]
  },
  {
   "cell_type": "code",
   "execution_count": 3,
   "metadata": {
    "scrolled": true
   },
   "outputs": [
    {
     "name": "stdout",
     "output_type": "stream",
     "text": [
      "['policyID', 'statecode', 'county', 'eq_site_limit', 'hu_site_limit', 'fl_site_limit', 'fr_site_limit', 'tiv_2011', 'tiv_2012', 'eq_site_deductible', 'hu_site_deductible', 'fl_site_deductible', 'fr_site_deductible', 'point_latitude', 'point_longitude', 'line', 'construction', 'point_granularity']\n",
      "['119736', 'FL', 'CLAY COUNTY', '498960', '498960', '498960', '498960', '498960', '792148.9', '0', '9979.2', '0', '0', '30.102261', '-81.711777', 'Residential', 'Masonry', '1']\n"
     ]
    }
   ],
   "source": [
    "file.seek(0)\n",
    "reader = csv.reader(file)\n",
    "header = next(reader)\n",
    "data = [row for row in reader]\n",
    "print(header)\n",
    "print((data[0]))"
   ]
  },
  {
   "cell_type": "code",
   "execution_count": 4,
   "metadata": {},
   "outputs": [
    {
     "name": "stdout",
     "output_type": "stream",
     "text": [
      "[119736, 'FL', 'CLAY COUNTY', 498960.0, 498960.0, 498960.0, 498960.0, 498960.0, 792148.9, 0.0, 9979.2, 0.0, 0.0, 30.102261, -81.711777, 'Residential', 'Masonry', 1]\n"
     ]
    }
   ],
   "source": [
    "file.seek(0)\n",
    "reader = csv.reader(file)\n",
    "header = next(reader)\n",
    "data = []\n",
    "for row in reader:\n",
    "    policyID = int(row[0])\n",
    "    statecode = str(row[1])\n",
    "    county = str(row[2])\n",
    "    eq_site_limit = float(row[3])\n",
    "    hu_site_limit = float(row[4])\n",
    "    fl_site_limit = float(row[5])\n",
    "    fr_site_limit = float(row[6])\n",
    "    tiv_2011 = float(row[7])\n",
    "    tiv_2012 = float(row[8])\n",
    "    eq_site_deductible = float(row[9])\n",
    "    hu_site_deductible = float(row[10])\n",
    "    fl_site_deductible = float(row[11])\n",
    "    fr_site_deductible = float(row[12])\n",
    "    point_latitude = float(row[13])\n",
    "    point_longitude = float(row[14])\n",
    "    line = str(row[15])\n",
    "    construction = str(row[16])\n",
    "    point_granularity = int(row[17])\n",
    "    \n",
    "    data.append([policyID, statecode, county, eq_site_limit, hu_site_limit, fl_site_limit, fr_site_limit, tiv_2011, tiv_2012, eq_site_deductible, hu_site_deductible, fl_site_deductible, fr_site_deductible, point_latitude, point_longitude, line, construction, point_granularity])\n",
    "    \n",
    "    \n",
    "    \n",
    "print(data[0])"
   ]
  },
  {
   "cell_type": "code",
   "execution_count": null,
   "metadata": {},
   "outputs": [],
   "source": []
  }
 ],
 "metadata": {
  "kernelspec": {
   "display_name": "Python 3",
   "language": "python",
   "name": "python3"
  },
  "language_info": {
   "codemirror_mode": {
    "name": "ipython",
    "version": 3
   },
   "file_extension": ".py",
   "mimetype": "text/x-python",
   "name": "python",
   "nbconvert_exporter": "python",
   "pygments_lexer": "ipython3",
   "version": "3.7.1"
  }
 },
 "nbformat": 4,
 "nbformat_minor": 2
}
