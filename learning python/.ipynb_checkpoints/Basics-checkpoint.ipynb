{
 "cells": [
  {
   "cell_type": "markdown",
   "metadata": {},
   "source": [
    "<h3>Strings</h3>"
   ]
  },
  {
   "cell_type": "code",
   "execution_count": 141,
   "metadata": {},
   "outputs": [
    {
     "name": "stdout",
     "output_type": "stream",
     "text": [
      "me \n",
      "SOME STRING B\n",
      "some string b\n",
      "jome jtring b\n",
      "['some', 'string', 'b']\n",
      "some string with a placeholder some string b\n",
      "I have a Ford, it is a Mustang.\n"
     ]
    }
   ],
   "source": [
    "# multiline string:\n",
    "multilinestr = '''here this is a mulitline string\n",
    "i can write in the nexxt line too. '''\n",
    "\n",
    "b =\" some string b \"\n",
    "# strip is to remove while spaces in the beginning and the end of a string\n",
    "b = b.strip()\n",
    "# string behave as an array\n",
    "print(b[2:5])\n",
    "\n",
    "print(b.upper())\n",
    "print(b.lower())\n",
    "print(b.replace(\"s\",\"j\"))\n",
    "print(b.split(\" \"))\n",
    "\n",
    "a=\"some string with a placeholder {}\".format(b)\n",
    "print(a)\n",
    "myorder = \"I have a {carname}, it is a {model}.\"\n",
    "print(myorder.format(carname = \"Ford\", model = \"Mustang\"))"
   ]
  },
  {
   "cell_type": "markdown",
   "metadata": {},
   "source": [
    "<h3>list</h3>"
   ]
  },
  {
   "cell_type": "code",
   "execution_count": 21,
   "metadata": {
    "collapsed": true
   },
   "outputs": [
    {
     "name": "stdout",
     "output_type": "stream",
     "text": [
      "banana\n",
      "apple\n",
      "banana\n",
      "mango\n",
      "its here\n",
      "3\n",
      "[]\n",
      "[1, 2, 3]\n",
      "[1, 2, 3, 1, 2, 3]\n"
     ]
    }
   ],
   "source": [
    "somelist = ['apple','banana','mango']\n",
    "print(somelist[1])\n",
    "for x in somelist:\n",
    "    print(x)\n",
    "if(\"apple\" in somelist):\n",
    "    print(\"its here\")\n",
    "    \n",
    "print(len(somelist))\n",
    "somelist.append(\"orange\")\n",
    "somelist.insert(1, \"somefruit\")\n",
    "somelist.remove(\"orange\")\n",
    "somelist.pop()\n",
    "del somelist[2]\n",
    "del somelist\n",
    "\n",
    "somelist=[1,2,3,4,5]\n",
    "somelist.clear()\n",
    "print(somelist)\n",
    "somelist=[1,2,3,]\n",
    "\n",
    "copiedlist = somelist.copy()\n",
    "print(copiedlist)\n",
    "print(somelist+copiedlist)"
   ]
  },
  {
   "cell_type": "markdown",
   "metadata": {},
   "source": [
    "append()\tAdds an element at the end of the list\n",
    "\n",
    "clear()\tRemoves all the elements from the list\n",
    "\n",
    "copy()\tReturns a copy of the list\n",
    "\n",
    "count()\tReturns the number of elements with the specified value\n",
    "\n",
    "extend()\tAdd the elements of a list (or any iterable), to the end of the current list\n",
    "\n",
    "index()\tReturns the index of the first element with the specified value\n",
    "\n",
    "insert()\tAdds an element at the specified position\n",
    "\n",
    "pop()\tRemoves the element at the specified position\n",
    "\n",
    "remove()\tRemoves the item with the specified value\n",
    "\n",
    "reverse()\tReverses the order of the list\n",
    "\n",
    "sort()\tSorts the list"
   ]
  },
  {
   "cell_type": "markdown",
   "metadata": {},
   "source": [
    "<h3>tuple</h3>"
   ]
  },
  {
   "cell_type": "code",
   "execution_count": 19,
   "metadata": {
    "collapsed": true
   },
   "outputs": [
    {
     "name": "stdout",
     "output_type": "stream",
     "text": [
      "2\n"
     ]
    }
   ],
   "source": [
    "sometuple = (1,2,3,4)\n",
    "print(sometuple[1])\n",
    "# once a tuple is created its values cannot be changed \n",
    "del sometuple\n",
    "# we can delete a tuple\n",
    "\n",
    "# most of the functions are similar to that of a list butits values is unchangable"
   ]
  },
  {
   "cell_type": "markdown",
   "metadata": {},
   "source": [
    "<h3>dictionary</h3>"
   ]
  },
  {
   "cell_type": "code",
   "execution_count": 39,
   "metadata": {},
   "outputs": [
    {
     "name": "stdout",
     "output_type": "stream",
     "text": [
      "value1\n",
      "key1\n",
      "changed value\n",
      "key2\n",
      "value2\n",
      "key1changed value\n",
      "key2value2\n",
      "ture\n",
      "2\n"
     ]
    }
   ],
   "source": [
    "somedict = {\"key1\":\"value1\",\"key2\":\"value2\"}\n",
    "print(somedict[\"key1\"])\n",
    "somedict[\"key1\"] = \"changed value\"\n",
    "\n",
    "for x in somedict:\n",
    "    print(x)\n",
    "    print(somedict[x])\n",
    "    \n",
    "for x,y in somedict.items():\n",
    "    print(x+y)\n",
    "    \n",
    "if('key1' in somedict):\n",
    "    print(\"ture\")\n",
    "    \n",
    "print(len(somedict))\n",
    "somedict[\"newkey\"] = \"new value\"\n",
    "somedict.pop(\"key2\")\n",
    "somedict.popitem()\n",
    "\n",
    "copieddict = somedict.copy()\n"
   ]
  },
  {
   "cell_type": "markdown",
   "metadata": {},
   "source": [
    "clear()\tRemoves all the elements from the dictionary\n",
    "\n",
    "copy()\tReturns a copy of the dictionary\n",
    "\n",
    "fromkeys()\tReturns a dictionary with the specified keys and \n",
    "values\n",
    "\n",
    "get()\tReturns the value of the specified key\n",
    "\n",
    "items()\tReturns a list containing the a tuple for each key value pair\n",
    "\n",
    "keys()\tReturns a list containing the dictionary's keys\n",
    "\n",
    "pop()\tRemoves the element with the specified key\n",
    "\n",
    "popitem()\tRemoves the last inserted key-value pair\n",
    "\n",
    "setdefault()\tReturns the value of the specified key. If the key does not exist: insert the key, with the specified value\n",
    "\n",
    "update()\tUpdates the dictionary with the specified key-value pairs\n",
    "\n",
    "values()\tReturns a list of all the values in the dictionary"
   ]
  },
  {
   "cell_type": "markdown",
   "metadata": {},
   "source": [
    "<h3>if else</h3>"
   ]
  },
  {
   "cell_type": "code",
   "execution_count": 47,
   "metadata": {
    "collapsed": true
   },
   "outputs": [
    {
     "name": "stdout",
     "output_type": "stream",
     "text": [
      "3 is greater than 2\n",
      "3\n",
      "3\n"
     ]
    },
    {
     "data": {
      "text/plain": [
       "True"
      ]
     },
     "execution_count": 47,
     "metadata": {},
     "output_type": "execute_result"
    }
   ],
   "source": [
    "# shorthand if else\n",
    "if 3 > 2: print(\"3 is greater than 2\")\n",
    "print(\"3\") if 3 > 2 else print(\"2\")\n",
    "print(\"3\") if 3 > 2 else print(\"=\") if 3 == 2 else print(\"2\")\n",
    "\n",
    "1==1 and 2==2\n",
    "1==1 or 1==2\n"
   ]
  },
  {
   "cell_type": "markdown",
   "metadata": {},
   "source": [
    "<h3>while loop and continue\n",
    "   "
   ]
  },
  {
   "cell_type": "code",
   "execution_count": 48,
   "metadata": {
    "collapsed": true
   },
   "outputs": [
    {
     "name": "stdout",
     "output_type": "stream",
     "text": [
      "1\n",
      "2\n",
      "4\n",
      "5\n",
      "6\n"
     ]
    }
   ],
   "source": [
    "i = 0\n",
    "while i < 6:\n",
    "    i += 1 \n",
    "    if i == 3:\n",
    "        continue\n",
    "    print(i)"
   ]
  },
  {
   "cell_type": "markdown",
   "metadata": {},
   "source": [
    "<h3>for loop"
   ]
  },
  {
   "cell_type": "code",
   "execution_count": 55,
   "metadata": {},
   "outputs": [
    {
     "name": "stdout",
     "output_type": "stream",
     "text": [
      "apple\n",
      "cherry\n",
      "2\n",
      "4\n",
      "6\n",
      "0\n",
      "1\n",
      "2\n",
      "done\n"
     ]
    }
   ],
   "source": [
    "fruits = [\"apple\", \"banana\", \"cherry\"]\n",
    "for x in fruits:\n",
    "    if x == \"banana\":\n",
    "        continue\n",
    "    print(x)\n",
    "\n",
    "for x in range(2,8,2):\n",
    "    print(x)\n",
    "\n",
    "for x in range(3):\n",
    "    print(x)\n",
    "else:\n",
    "    print(\"done\")"
   ]
  },
  {
   "cell_type": "markdown",
   "metadata": {},
   "source": [
    "<h3>functions"
   ]
  },
  {
   "cell_type": "code",
   "execution_count": 58,
   "metadata": {},
   "outputs": [
    {
     "name": "stdout",
     "output_type": "stream",
     "text": [
      "Recursion\n",
      "1\n",
      "3\n",
      "6\n",
      "10\n",
      "15\n",
      "21\n"
     ]
    },
    {
     "data": {
      "text/plain": [
       "21"
      ]
     },
     "execution_count": 58,
     "metadata": {},
     "output_type": "execute_result"
    }
   ],
   "source": [
    "def tri_recursion(k):\n",
    "    if(k>0):\n",
    "        result = k+tri_recursion(k-1)\n",
    "    print(result)\n",
    "    else:\n",
    "        result = 0\n",
    "    return result\n",
    "\n",
    "print(\"Recursion\")\n",
    "tri_recursion(6)"
   ]
  },
  {
   "cell_type": "markdown",
   "metadata": {},
   "source": [
    "<h3>lambda function\n"
   ]
  },
  {
   "cell_type": "code",
   "execution_count": 60,
   "metadata": {},
   "outputs": [
    {
     "name": "stdout",
     "output_type": "stream",
     "text": [
      "30\n"
     ]
    }
   ],
   "source": [
    "# lambda arguments : expression\n",
    "\n",
    "x = lambda a, b : a * b\n",
    "print(x(5, 6))"
   ]
  },
  {
   "cell_type": "markdown",
   "metadata": {},
   "source": [
    "<h3>classes and objects and inheritance\n",
    "    "
   ]
  },
  {
   "cell_type": "code",
   "execution_count": 72,
   "metadata": {
    "scrolled": true
   },
   "outputs": [
    {
     "name": "stdout",
     "output_type": "stream",
     "text": [
      "Hello my name is somename\n",
      "Hello my name is childname\n",
      "lname is childlname\n"
     ]
    }
   ],
   "source": [
    "class parentclass:\n",
    "    def __init__(self, name, age):\n",
    "        self.name = name\n",
    "        self.age = age\n",
    "\n",
    "    def myfunc(self):\n",
    "        print(\"Hello my name is \" + self.name)\n",
    "\n",
    "class childclass(parentclass):\n",
    "    def __init__(self, name,lname, age):\n",
    "        super().__init__(name, age)\n",
    "        self.lname = lname\n",
    "    def myfunc(self):\n",
    "        super().myfunc()\n",
    "        print(\"lname is \" + self.lname)\n",
    "\n",
    "x = parentclass('somename',33)\n",
    "x.myfunc()\n",
    "\n",
    "y = childclass('childname',\"childlname\", 12)\n",
    "y.myfunc()"
   ]
  },
  {
   "cell_type": "markdown",
   "metadata": {},
   "source": [
    "<h3>DateTime module\n",
    "    "
   ]
  },
  {
   "cell_type": "code",
   "execution_count": 90,
   "metadata": {},
   "outputs": [
    {
     "name": "stdout",
     "output_type": "stream",
     "text": [
      "2019-08-08 19:15:11.250628\n",
      "12:53:42\n"
     ]
    }
   ],
   "source": [
    "import datetime\n",
    "\n",
    "x = datetime.datetime.now()\n",
    "print(x)\n",
    "\n",
    "y = datetime.datetime(2020, 5, 17,12,53,42)\n",
    "# year, month, day, hour, minute, second, and microsecond.\n",
    "print(y.strftime(\"%X\"))"
   ]
  },
  {
   "cell_type": "markdown",
   "metadata": {},
   "source": [
    "%a\tWeekday, short version\tWed\t\n",
    "\n",
    "%A\tWeekday, full version\tWednesday\t\n",
    "\n",
    "%w\tWeekday as a number 0-6, 0 is Sunday\t3\t\n",
    "\n",
    "%d\tDay of month 01-31\t31\t\n",
    "\n",
    "%b\tMonth name, short version\tDec\t\n",
    "\n",
    "%B\tMonth name, full version\tDecember\t\n",
    "\n",
    "%m\tMonth as a number 01-12\t12\t\n",
    "\n",
    "%y\tYear, short version, without century\t18\t\n",
    "\n",
    "%Y\tYear, full version\t2018\t\n",
    "\n",
    "%H\tHour 00-23\t17\t\n",
    "\n",
    "%I\tHour 00-12\t05\t\n",
    "\n",
    "%p\tAM/PM\tPM\t\n",
    "\n",
    "%M\tMinute 00-59\t41\t\n",
    "\n",
    "%S\tSecond 00-59\t08\t\n",
    "\n",
    "%f\tMicrosecond 000000-999999\t548513\t\n",
    "\n",
    "%z\tUTC offset\t+0100\t\n",
    "\n",
    "%Z\tTimezone\tCST\t\n",
    "\n",
    "%j\tDay number of year 001-366\t365\t\n",
    "\n",
    "%U\tWeek number of year, Sunday as the first day of week, 00-53\t\n",
    "52\t\n",
    "\n",
    "%W\tWeek number of year, Monday as the first day of week, 00-53\t52\t\n",
    "\n",
    "%c\tLocal version of date and time\tMon Dec 31 17:41:00 2018\t\n",
    "\n",
    "%x\tLocal version of date\t12/31/18\t\n",
    "\n",
    "%X\tLocal version of time\t17:41:00\t\n",
    "\n",
    "%%\tA % character\t%"
   ]
  },
  {
   "cell_type": "code",
   "execution_count": null,
   "metadata": {},
   "outputs": [],
   "source": []
  },
  {
   "cell_type": "markdown",
   "metadata": {},
   "source": [
    "<h3>Json"
   ]
  },
  {
   "cell_type": "code",
   "execution_count": 108,
   "metadata": {},
   "outputs": [
    {
     "name": "stdout",
     "output_type": "stream",
     "text": [
      "30\n",
      "<class 'str'>\n",
      "{\n",
      " \"age\": 30,\n",
      " \"cars\": [\n",
      "  {\n",
      "   \"model\": \"BMW 230\",\n",
      "   \"mpg\": 27.5\n",
      "  },\n",
      "  {\n",
      "   \"model\": \"Ford Edge\",\n",
      "   \"mpg\": 24.1\n",
      "  }\n",
      " ],\n",
      " \"children\": [\n",
      "  \"Ann\",\n",
      "  \"Billy\"\n",
      " ],\n",
      " \"divorced\": false,\n",
      " \"married\": true,\n",
      " \"name\": \"John\",\n",
      " \"pets\": null\n",
      "}\n"
     ]
    }
   ],
   "source": [
    "import json\n",
    "\n",
    "# a string x is parsed into a json(python dictionary) object and savned in y\n",
    "x =  '{ \"name\":\"John\", \"age\":30, \"city\":\"New York\"}'\n",
    "y = json.loads(x)\n",
    "print(y[\"age\"])\n",
    "\n",
    "# and the reverse procedure\n",
    "p = {\n",
    "  \"name\": \"John\",\n",
    "  \"age\": 30,\n",
    "  \"city\": \"New York\"\n",
    "}\n",
    "q = json.dumps(p)\n",
    "print(type(q))\n",
    "\n",
    "a = {\n",
    "  \"name\": \"John\",\n",
    "  \"age\": 30,\n",
    "  \"married\": True,\n",
    "  \"divorced\": False,\n",
    "  \"children\": (\"Ann\",\"Billy\"),\n",
    "  \"pets\": None,\n",
    "  \"cars\": [\n",
    "    {\"model\": \"BMW 230\", \"mpg\": 27.5},\n",
    "    {\"model\": \"Ford Edge\", \"mpg\": 24.1}\n",
    "  ]\n",
    "}\n",
    "\n",
    "b=json.dumps(a, indent=1, sort_keys=True)\n",
    "print(b)"
   ]
  },
  {
   "cell_type": "markdown",
   "metadata": {},
   "source": [
    "<h3>RegEx"
   ]
  },
  {
   "cell_type": "code",
   "execution_count": 126,
   "metadata": {},
   "outputs": [
    {
     "name": "stdout",
     "output_type": "stream",
     "text": [
      "5\n",
      "(5, 6)\n",
      "a\n",
      "['ai', 'ai']\n",
      "['The', 'rain', 'in', 'Spain']\n",
      "['The', 'rain in Spain']\n",
      "The9rain9in9Spain\n",
      "The9rain9in Spain\n"
     ]
    }
   ],
   "source": [
    "import re\n",
    "\n",
    "txt = \"The rain in Spain\"\n",
    "x = re.search(\"a\", txt)\n",
    "# the position of the string\n",
    "print(x.start())\n",
    "# the start and end position of the string\n",
    "print(x.span())\n",
    "# how the regex wil look like in whole\n",
    "print(x.group())\n",
    "\n",
    "\n",
    "str = \"The rain in Spain\"\n",
    "x = re.findall(\"ai\", str)\n",
    "print(x)\n",
    "\n",
    "str = \"The rain in Spain\"\n",
    "x = re.split(\"\\s\", str)\n",
    "y = re.split(\"\\s\", str, 1)\n",
    "print(x)\n",
    "print(y)\n",
    "\n",
    "str = \"The rain in Spain\"\n",
    "x = re.sub(\"\\s\", \"9\", str)\n",
    "y = re.sub(\"\\s\", \"9\", str, 2)\n",
    "print(x)\n",
    "print(y)"
   ]
  },
  {
   "cell_type": "markdown",
   "metadata": {},
   "source": [
    "<table class=\"w3-table-all notranslate\">\n",
    "<tbody><tr>\n",
    "<th style=\"width:120px\">Function</th>\n",
    "<th>Description</th>\n",
    "</tr>\n",
    "<tr>\n",
    "<td><a href=\"#findall\">findall</a></td>\n",
    "<td>Returns a list containing all matches</td>\n",
    "</tr>\n",
    "<tr>\n",
    "<td><a href=\"#search\">search</a></td>\n",
    "<td>Returns a <a href=\"#matchobject\">Match object</a> if there is a match anywhere in the string</td>\n",
    "</tr>\n",
    "<tr>\n",
    "<td><a href=\"#split\">split</a></td>\n",
    "<td>Returns a list where the string has been split at each match </td>\n",
    "</tr>\n",
    "<tr>\n",
    "<td><a href=\"#sub\">sub</a></td>\n",
    "<td>Replaces one or many matches with a string</td>\n",
    "</tr>\n",
    "</tbody></table>\n",
    "\n",
    "\n",
    "\n",
    "<table class=\"w3-table-all notranslate\">\n",
    "<tbody><tr>\n",
    "<th style=\"width:120px\">Character</th>\n",
    "<th>Description</th>\n",
    "<th style=\"width:120px\">Example</th>\n",
    "\n",
    "</tr>\n",
    "<tr>\n",
    "<td>[]</td>\n",
    "<td>A set of characters</td>\n",
    "<td>\"[a-m]\"</td>\n",
    "\n",
    "</tr>\n",
    "<tr>\n",
    "<td>\\</td>\n",
    "<td>Signals a special sequence (can also be used to escape special characters)</td>\n",
    "<td>\"\\d\"</td>\n",
    "\n",
    "</tr>\n",
    "<tr>\n",
    "<td>.</td>\n",
    "<td>Any character (except newline character)</td>\n",
    "<td>\"he..o\"</td>\n",
    "\n",
    "</tr>\n",
    "<tr>\n",
    "<td>^</td>\n",
    "<td>Starts with</td>\n",
    "<td>\"^hello\"</td>\n",
    "\n",
    "</tr>\n",
    "  <tr>\n",
    "<td>\\$</td>\n",
    "<td>Ends with</td>\n",
    "<td>\"world$\"</td>\n",
    "\n",
    "  </tr>\n",
    "  <tr>\n",
    "<td>*</td>\n",
    "<td>Zero or more occurrences</td>\n",
    "<td>\"aix*\"</td>\n",
    "\n",
    "  </tr>\n",
    "  <tr>\n",
    "<td>+</td>\n",
    "<td>One or more occurrences</td>\n",
    "<td>\"aix+\"</td>\n",
    "\n",
    "  </tr>\n",
    "  <tr>\n",
    "<td>{}</td>\n",
    "<td>Exactly the specified number of occurrences</td>\n",
    "<td>\"al{2}\"</td>\n",
    "\n",
    "  </tr>\n",
    "  <tr>\n",
    "<td>|</td>\n",
    "<td>Either or</td>\n",
    "<td>\"falls|stays\"</td>\n",
    "\n",
    "  </tr>\n",
    "  <tr>\n",
    "<td>()</td>\n",
    "<td>Capture and group</td>\n",
    "<td>&nbsp;</td>\n",
    "<td>&nbsp;</td>\n",
    "  </tr>\n",
    "</tbody></table>\n",
    "\n",
    "\n",
    "<table class=\"w3-table-all notranslate\">\n",
    "<tbody><tr>\n",
    "<th style=\"width:120px\">Character</th>\n",
    "<th>Description</th>\n",
    "<th style=\"width:120px\">Example</th>\n",
    "\n",
    "</tr>\n",
    "<tr>\n",
    "<td>\\A</td>\n",
    "<td>Returns a match if the specified characters are at the beginning of the \n",
    "string</td>\n",
    "<td>\"\\AThe\"</td>\n",
    "\n",
    "</tr>\n",
    "  <tr>\n",
    "<td>\\b</td>\n",
    "<td>Returns a match where the specified characters are at the beginning or at the \n",
    "end of a word</td>\n",
    "<td>r\"\\bain\"<br>r\"ain\\b\"</td>\n",
    "\n",
    "  </tr>\n",
    "  <tr>\n",
    "<td>\\B</td>\n",
    "<td>Returns a match where the specified characters are present, but NOT at the beginning \n",
    "(or at \n",
    "the end) of a word</td>\n",
    "<td>r\"\\Bain\"<br>r\"ain\\B\"</td>\n",
    "\n",
    "  </tr>\n",
    "  <tr>\n",
    "<td>\\d</td>\n",
    "<td>Returns a match where the string contains digits (numbers from 0-9)</td>\n",
    "<td>\"\\d\"</td>\n",
    "\n",
    "  </tr>\n",
    "  <tr>\n",
    "<td>\\D</td>\n",
    "<td>Returns a match where the string DOES NOT contain digits</td>\n",
    "<td>\"\\D\"</td>\n",
    "\n",
    "  </tr>\n",
    "  <tr>\n",
    "<td>\\s</td>\n",
    "<td>Returns a match where the string contains a white space character</td>\n",
    "<td>\"\\s\"</td>\n",
    "\n",
    "  </tr>\n",
    "  <tr>\n",
    "<td>\\S</td>\n",
    "<td>Returns a match where the string DOES NOT contain a white space character</td>\n",
    "<td>\"\\S\"</td>\n",
    "\n",
    "  </tr>\n",
    "  <tr>\n",
    "<td>\\w</td>\n",
    "<td>Returns a match where the string contains any word characters (characters from \n",
    "a to Z, digits from 0-9, and the underscore _ character)</td>\n",
    "<td>\"\\w\"</td>\n",
    "\n",
    "  </tr>\n",
    "  <tr>\n",
    "<td>\\W</td>\n",
    "<td>Returns a match where the string DOES NOT contain any word characters</td>\n",
    "<td>\"\\W\"</td>\n",
    "\n",
    "  </tr>\n",
    "<tr>\n",
    "<td>\\Z</td>\n",
    "<td>Returns a match if the specified characters are at the end of the string</td>\n",
    "<td>\"Spain\\Z\"</td>\n",
    "\n",
    "</tr>\n",
    "</tbody></table>\n",
    "\n",
    "<table class=\"w3-table-all notranslate\">\n",
    "<tbody><tr>\n",
    "<th style=\"width:120px\">Set</th>\n",
    "<th>Description</th>\n",
    "\n",
    "</tr>\n",
    "  <tr>\n",
    "<td>[arn]</td>\n",
    "<td>Returns a match where one of the specified characters (<code class=\"w3-codespan\">a</code>,\n",
    "<code class=\"w3-codespan\">r</code>, or <code class=\"w3-codespan\">n</code>) are \n",
    "present</td>\n",
    "\n",
    "  </tr>\n",
    "  <tr>\n",
    "<td>[a-n]</td>\n",
    "<td>Returns a match for any lower case character, alphabetically between\n",
    "<code class=\"w3-codespan\">a</code> and <code class=\"w3-codespan\">n</code></td>\n",
    "\n",
    "  </tr>\n",
    "  <tr>\n",
    "<td>[^arn]</td>\n",
    "<td>Returns a match for any character EXCEPT <code class=\"w3-codespan\">a</code>,\n",
    "<code class=\"w3-codespan\">r</code>, and <code class=\"w3-codespan\">n</code></td>\n",
    "\n",
    "  </tr>\n",
    "  <tr>\n",
    "<td>[0123]</td>\n",
    "<td>Returns a match where any of the specified digits (<code class=\"w3-codespan\">0</code>,\n",
    "<code class=\"w3-codespan\">1</code>, <code class=\"w3-codespan\">2</code>, or <code class=\"w3-codespan\">\n",
    "3</code>) are \n",
    "present</td>\n",
    "\n",
    "  </tr>\n",
    "  <tr>\n",
    "<td>[0-9]</td>\n",
    "<td>Returns a match for any digit between\n",
    "<code class=\"w3-codespan\">0</code> and <code class=\"w3-codespan\">9</code></td>\n",
    "\n",
    "  </tr>\n",
    "<tr>\n",
    "<td>[0-5][0-9]</td>\n",
    "<td>Returns a match for any two-digit numbers from <code class=\"w3-codespan\">00</code> and <code class=\"w3-codespan\">\n",
    "59</code></td>\n",
    "\n",
    "</tr>\n",
    "  <tr>\n",
    "<td>[a-zA-Z]</td>\n",
    "<td>Returns a match for any character alphabetically between\n",
    "<code class=\"w3-codespan\">a</code> and <code class=\"w3-codespan\">z</code>, lower case OR upper case</td>\n",
    "\n",
    "  </tr>\n",
    "  <tr>\n",
    "<td>[+]</td>\n",
    "<td>In sets, <code class=\"w3-codespan\">+</code>, <code class=\"w3-codespan\">*</code>,\n",
    "<code class=\"w3-codespan\">.</code>, <code class=\"w3-codespan\">|</code>,\n",
    "<code class=\"w3-codespan\">()</code>, <code class=\"w3-codespan\">\\$</code>,<code class=\"w3-codespan\">{}</code> \n",
    "has no special meaning, so <code class=\"w3-codespan\">[+]</code> means: return a match for any\n",
    "<code class=\"w3-codespan\">+</code> character in the string</td>\n",
    "\n",
    "  </tr>\n",
    "</tbody></table>\n"
   ]
  },
  {
   "cell_type": "markdown",
   "metadata": {},
   "source": [
    "<h3>try except"
   ]
  },
  {
   "cell_type": "code",
   "execution_count": 137,
   "metadata": {},
   "outputs": [
    {
     "name": "stdout",
     "output_type": "stream",
     "text": [
      "An exception occurred\n",
      "Variable someunknown is not defined\n",
      "Hello\n",
      "Nothing went wrong\n",
      "Something went wrong\n",
      "The 'try except' is finished\n"
     ]
    }
   ],
   "source": [
    "try:\n",
    "    print(someunknown)\n",
    "except:\n",
    "    print(\"An exception occurred\")\n",
    "\n",
    "try:\n",
    "    print(someunknown)\n",
    "except NameError:\n",
    "    print(\"Variable someunknown is not defined\")\n",
    "except:\n",
    "    print(\"Something else went wrong\")\n",
    "\n",
    "# else keyword to define a block of code to be executed if no errors were raised\n",
    "\n",
    "try:\n",
    "    print(\"Hello\")\n",
    "except:\n",
    "    print(\"Something went wrong\")\n",
    "else:\n",
    "    print(\"Nothing went wrong\")\n",
    "\n",
    "# finally block, if specified, will be executed regardless if the try block raises an error or not.\n",
    "\n",
    "try:\n",
    "    print(someunknown)\n",
    "except:\n",
    "    print(\"Something went wrong\")\n",
    "finally:\n",
    "    print(\"The 'try except' is finished\")"
   ]
  },
  {
   "cell_type": "markdown",
   "metadata": {},
   "source": [
    "<h3>input "
   ]
  },
  {
   "cell_type": "code",
   "execution_count": 139,
   "metadata": {},
   "outputs": [
    {
     "name": "stdout",
     "output_type": "stream",
     "text": [
      "Enter your name:\n",
      "xxxxx\n",
      "yourname is  xxxxx\n"
     ]
    }
   ],
   "source": [
    "print(\"Enter your name:\")\n",
    "x = input()\n",
    "print(\"yourname is \",x)"
   ]
  },
  {
   "cell_type": "markdown",
   "metadata": {},
   "source": [
    "<h3>file handling"
   ]
  },
  {
   "cell_type": "code",
   "execution_count": 182,
   "metadata": {},
   "outputs": [
    {
     "name": "stdout",
     "output_type": "stream",
     "text": [
      "This is a test file.\n",
      "It has some ramdom text in it.\n",
      "Also, it is used in one of the programme.Now the file has more content!\n",
      "some error\n"
     ]
    }
   ],
   "source": [
    "try:\n",
    "    f = open(\"test.txt\", \"rt\")\n",
    "except:\n",
    "    print(\"some error\")\n",
    "\n",
    "print(f.read())\n",
    "# print(f.readline())\n",
    "# print(f.readline())\n",
    "\n",
    "# .read() is for reading all characters in the file with one character at a time \n",
    "# .readline() is for reading one line of the file i.e. till \\n\n",
    "for x in f:\n",
    "    print(x+\"\\n\")\n",
    "\n",
    "f.close()\n",
    "\n",
    "\n",
    "try:\n",
    "    f = open(\"test.txt\", \"at\")\n",
    "except:\n",
    "    print(\"some error\")\n",
    "f.write(\"Now the file has more content!\")   \n",
    "\n",
    "# to remove a file and a directory\n",
    "import os\n",
    "try:\n",
    "    os.remove(\"demofile12321.txt\")\n",
    "    os.rmdir(\"myfolder41241\")\n",
    "except:\n",
    "    print(\"some error\")"
   ]
  },
  {
   "cell_type": "markdown",
   "metadata": {},
   "source": [
    "<div class=\"w3-example\">\n",
    "<p><code class=\"w3-codespan\">\"r\"</code> - Read - Default value. Opens a \n",
    "file for reading, error if the file does not exist</p>\n",
    "<p><code class=\"w3-codespan\">\"a\"</code> - Append - Opens a file for \n",
    "appending, creates the file if it does not exist</p>\n",
    "<p><code class=\"w3-codespan\">\"w\"</code> - Write - Opens a file for writing, \n",
    "creates the file if it does not exist</p>\n",
    "<p><code class=\"w3-codespan\">\"x\"</code> - Create - Creates the specified file, returns \n",
    "an error if the file exists</p>\n",
    "</div>\n",
    "<div class=\"w3-example\">\n",
    "  <p><code class=\"w3-codespan\">\"t\"</code> - Text - Default value. Text mode</p>\n",
    "  <p><code class=\"w3-codespan\">\"b\"</code> - Binary - Binary mode (e.g. \n",
    "  images)</p>\n",
    "</div>"
   ]
  },
  {
   "cell_type": "code",
   "execution_count": null,
   "metadata": {},
   "outputs": [],
   "source": []
  }
 ],
 "metadata": {
  "kernelspec": {
   "display_name": "Python 3",
   "language": "python",
   "name": "python3"
  },
  "language_info": {
   "codemirror_mode": {
    "name": "ipython",
    "version": 3
   },
   "file_extension": ".py",
   "mimetype": "text/x-python",
   "name": "python",
   "nbconvert_exporter": "python",
   "pygments_lexer": "ipython3",
   "version": "3.7.1"
  }
 },
 "nbformat": 4,
 "nbformat_minor": 2
}
